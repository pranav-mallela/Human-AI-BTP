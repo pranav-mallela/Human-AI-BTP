{
 "cells": [
  {
   "cell_type": "code",
   "execution_count": 32,
   "metadata": {},
   "outputs": [
    {
     "name": "stdout",
     "output_type": "stream",
     "text": [
      "Accuracy: 0.7379\n"
     ]
    }
   ],
   "source": [
    "from keras.models import load_model\n",
    "\n",
    "import numpy as np\n",
    "import pandas as pd\n",
    "\n",
    "# MODEL_NAME = '2_conv_layers/cnn_9'\n",
    "\n",
    "def unpickle(file):\n",
    "    import pickle\n",
    "    with open(file, 'rb') as fo:\n",
    "        dict = pickle.load(fo, encoding='bytes')\n",
    "    return dict\n",
    "\n",
    "def to_string(x):\n",
    "    return str(x, 'utf-8')\n",
    "\n",
    "model = load_model('cnn_model_75.h5')\n",
    "data = unpickle(f'raw/test_batch')[b'data'].reshape((-1, 3, 32, 32)).transpose(0, 2, 3, 1)/255\n",
    "predictions = model(data)\n",
    "df = pd.DataFrame(predictions)\n",
    "df = df.applymap(lambda x: float(x))\n",
    "\n",
    "true_labels = unpickle(f'raw/test_batch')[b'labels']\n",
    "df['true_labels'] = true_labels\n",
    "df['filenames'] = list(map(to_string, unpickle(f'raw/test_batch')[b'filenames']))\n",
    "\n",
    "print(f'Accuracy: {np.mean(1*(np.argmax(predictions, axis = 1) == true_labels))}')\n",
    "\n",
    "df.to_csv('raw/model_probs.csv', index=False)\n"
   ]
  }
 ],
 "metadata": {
  "kernelspec": {
   "display_name": "base",
   "language": "python",
   "name": "python3"
  },
  "language_info": {
   "codemirror_mode": {
    "name": "ipython",
    "version": 3
   },
   "file_extension": ".py",
   "mimetype": "text/x-python",
   "name": "python",
   "nbconvert_exporter": "python",
   "pygments_lexer": "ipython3",
   "version": "3.11.5"
  }
 },
 "nbformat": 4,
 "nbformat_minor": 2
}
